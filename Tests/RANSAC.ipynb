{
 "cells": [
  {
   "cell_type": "code",
   "execution_count": 2,
   "metadata": {},
   "outputs": [
    {
     "name": "stdout",
     "output_type": "stream",
     "text": [
      "File Name                                             Modified             Size\n",
      "Cloud Sample Data/                             2021-01-27 15:45:54            0\n",
      "Cloud Sample Data/1608332814003/               2021-01-27 15:45:24            0\n",
      "Cloud Sample Data/1608332814003/Data.csv       2020-12-18 18:06:56          463\n",
      "Cloud Sample Data/1608332814003/face_segment.pcd 2021-01-14 17:35:56      1419681\n",
      "Cloud Sample Data/1608332814003/PointCloudCapture.pcd 2020-12-18 18:06:56     10796487\n",
      "Cloud Sample Data/1608335007385/               2021-01-27 15:45:50            0\n",
      "Cloud Sample Data/1608335007385/Data.csv       2020-12-18 18:43:30          451\n",
      "Cloud Sample Data/1608335007385/face_segment.pcd 2021-01-18 14:27:26      1550014\n",
      "Cloud Sample Data/1608335007385/PointCloudCapture.pcd 2020-12-18 18:43:30      8422368\n",
      "Cloud Sample Data/1608337821692/               2021-01-27 15:45:38            0\n",
      "Cloud Sample Data/1608337821692/cropped_face.txt 2021-01-19 12:15:12      1543017\n",
      "Cloud Sample Data/1608337821692/Data.csv       2020-12-18 19:30:24          463\n",
      "Cloud Sample Data/1608337821692/face_segment.pcd 2021-01-15 16:36:40      1615156\n",
      "Cloud Sample Data/1608337821692/PointCloudCapture.pcd 2020-12-18 19:30:24     11713738\n",
      "Cloud Sample Data/1608340797805/               2021-01-27 15:45:34            0\n",
      "Cloud Sample Data/1608340797805/cropped_face.txt 2021-01-18 18:53:30      1467733\n",
      "Cloud Sample Data/1608340797805/Data.csv       2020-12-18 20:20:00          464\n",
      "Cloud Sample Data/1608340797805/face_segment.pcd 2021-01-18 14:11:52      1534618\n",
      "Cloud Sample Data/1608340797805/PointCloudCapture.pcd 2020-12-18 20:20:00     14136456\n",
      "Cloud Sample Data/1608343408802/               2021-01-27 15:45:28            0\n",
      "Cloud Sample Data/1608343408802/cropped_face.txt 2021-01-19 12:48:16       833739\n",
      "Cloud Sample Data/1608343408802/Data.csv       2020-12-18 21:03:30          466\n",
      "Cloud Sample Data/1608343408802/face_segment.pcd 2021-01-18 12:34:02      2233676\n",
      "Cloud Sample Data/1608343408802/PointCloudCapture.pcd 2020-12-18 21:03:30     11444607\n",
      "Cloud Sample Data/1608347279931/               2021-01-27 15:45:54            0\n",
      "Cloud Sample Data/1608347279931/cropped_face.txt 2021-01-18 19:23:46      1024944\n",
      "Cloud Sample Data/1608347279931/Data.csv       2020-12-18 22:08:02          455\n",
      "Cloud Sample Data/1608347279931/face_segment.pcd 2021-01-18 13:21:20      2051431\n",
      "Cloud Sample Data/1608347279931/PointCloudCapture.pcd 2020-12-18 22:08:02     10351412\n",
      "Cloud Sample Data/1608349012229/               2021-01-27 15:45:44            0\n",
      "Cloud Sample Data/1608349012229/Data.csv       2020-12-18 22:36:54          459\n",
      "Cloud Sample Data/1608349012229/face_segment.pcd 2021-01-18 14:43:40      1844578\n",
      "Cloud Sample Data/1608349012229/PointCloudCapture.pcd 2020-12-18 22:36:54     16264166\n",
      "done\n"
     ]
    }
   ],
   "source": [
    "from zipfile import ZipFile\n",
    "file_name = \"Cloud Sample Data.zip\"\n",
    "with ZipFile(file_name,'r') as zip:\n",
    "    zip.printdir()\n",
    "    zip.extractall()\n",
    "    print('done')\n",
    "\n",
    "import numpy as np "
   ]
  },
  {
   "cell_type": "code",
   "execution_count": 4,
   "metadata": {},
   "outputs": [
    {
     "name": "stdout",
     "output_type": "stream",
     "text": [
      "Requirement already satisfied: open3d in c:\\users\\rock\\anaconda3\\lib\\site-packages (0.12.0)\n",
      "Requirement already satisfied: notebook in c:\\users\\rock\\anaconda3\\lib\\site-packages (from open3d) (6.0.1)\n",
      "Requirement already satisfied: ipywidgets in c:\\users\\rock\\anaconda3\\lib\\site-packages (from open3d) (7.5.1)\n",
      "Requirement already satisfied: matplotlib in c:\\users\\rock\\anaconda3\\lib\\site-packages (from open3d) (3.1.1)\n",
      "Requirement already satisfied: widgetsnbextension in c:\\users\\rock\\anaconda3\\lib\\site-packages (from open3d) (3.5.1)\n",
      "Requirement already satisfied: numpy in c:\\users\\rock\\anaconda3\\lib\\site-packages (from open3d) (1.19.5)\n",
      "Requirement already satisfied: jupyter-core>=4.4.0 in c:\\users\\rock\\anaconda3\\lib\\site-packages (from notebook->open3d) (4.5.0)\n",
      "Requirement already satisfied: jinja2 in c:\\users\\rock\\anaconda3\\lib\\site-packages (from notebook->open3d) (2.10.3)\n",
      "Requirement already satisfied: ipython-genutils in c:\\users\\rock\\anaconda3\\lib\\site-packages (from notebook->open3d) (0.2.0)\n",
      "Requirement already satisfied: nbformat in c:\\users\\rock\\anaconda3\\lib\\site-packages (from notebook->open3d) (4.4.0)\n",
      "Requirement already satisfied: ipykernel in c:\\users\\rock\\anaconda3\\lib\\site-packages (from notebook->open3d) (5.1.2)\n",
      "Requirement already satisfied: Send2Trash in c:\\users\\rock\\anaconda3\\lib\\site-packages (from notebook->open3d) (1.5.0)\n",
      "Requirement already satisfied: nbconvert in c:\\users\\rock\\anaconda3\\lib\\site-packages (from notebook->open3d) (5.6.0)\n",
      "Requirement already satisfied: tornado>=5.0 in c:\\users\\rock\\anaconda3\\lib\\site-packages (from notebook->open3d) (6.0.3)\n",
      "Requirement already satisfied: jupyter-client>=5.3.1 in c:\\users\\rock\\anaconda3\\lib\\site-packages (from notebook->open3d) (5.3.3)\n",
      "Requirement already satisfied: prometheus-client in c:\\users\\rock\\anaconda3\\lib\\site-packages (from notebook->open3d) (0.7.1)\n",
      "Requirement already satisfied: terminado>=0.8.1 in c:\\users\\rock\\anaconda3\\lib\\site-packages (from notebook->open3d) (0.8.2)\n",
      "Requirement already satisfied: pyzmq>=17 in c:\\users\\rock\\anaconda3\\lib\\site-packages (from notebook->open3d) (18.1.0)\n",
      "Requirement already satisfied: traitlets>=4.2.1 in c:\\users\\rock\\anaconda3\\lib\\site-packages (from notebook->open3d) (4.3.3)\n",
      "Requirement already satisfied: ipython>=4.0.0; python_version >= \"3.3\" in c:\\users\\rock\\anaconda3\\lib\\site-packages (from ipywidgets->open3d) (7.8.0)\n",
      "Requirement already satisfied: cycler>=0.10 in c:\\users\\rock\\anaconda3\\lib\\site-packages (from matplotlib->open3d) (0.10.0)\n",
      "Requirement already satisfied: kiwisolver>=1.0.1 in c:\\users\\rock\\anaconda3\\lib\\site-packages (from matplotlib->open3d) (1.1.0)\n",
      "Requirement already satisfied: pyparsing!=2.0.4,!=2.1.2,!=2.1.6,>=2.0.1 in c:\\users\\rock\\anaconda3\\lib\\site-packages (from matplotlib->open3d) (2.4.2)\n",
      "Requirement already satisfied: python-dateutil>=2.1 in c:\\users\\rock\\anaconda3\\lib\\site-packages (from matplotlib->open3d) (2.8.0)\n",
      "Requirement already satisfied: MarkupSafe>=0.23 in c:\\users\\rock\\anaconda3\\lib\\site-packages (from jinja2->notebook->open3d) (1.1.1)\n",
      "Requirement already satisfied: jsonschema!=2.5.0,>=2.4 in c:\\users\\rock\\anaconda3\\lib\\site-packages (from nbformat->notebook->open3d) (3.0.2)\n",
      "Requirement already satisfied: entrypoints>=0.2.2 in c:\\users\\rock\\anaconda3\\lib\\site-packages (from nbconvert->notebook->open3d) (0.3)\n",
      "Requirement already satisfied: mistune<2,>=0.8.1 in c:\\users\\rock\\anaconda3\\lib\\site-packages (from nbconvert->notebook->open3d) (0.8.4)\n",
      "Requirement already satisfied: defusedxml in c:\\users\\rock\\anaconda3\\lib\\site-packages (from nbconvert->notebook->open3d) (0.6.0)\n",
      "Requirement already satisfied: pandocfilters>=1.4.1 in c:\\users\\rock\\anaconda3\\lib\\site-packages (from nbconvert->notebook->open3d) (1.4.2)\n",
      "Requirement already satisfied: testpath in c:\\users\\rock\\anaconda3\\lib\\site-packages (from nbconvert->notebook->open3d) (0.4.2)\n",
      "Requirement already satisfied: bleach in c:\\users\\rock\\anaconda3\\lib\\site-packages (from nbconvert->notebook->open3d) (3.1.0)\n",
      "Requirement already satisfied: pygments in c:\\users\\rock\\anaconda3\\lib\\site-packages (from nbconvert->notebook->open3d) (2.4.2)\n",
      "Requirement already satisfied: pywin32>=1.0; sys_platform == \"win32\" in c:\\users\\rock\\anaconda3\\lib\\site-packages (from jupyter-client>=5.3.1->notebook->open3d) (223)\n",
      "Requirement already satisfied: decorator in c:\\users\\rock\\anaconda3\\lib\\site-packages (from traitlets>=4.2.1->notebook->open3d) (4.4.0)\n",
      "Requirement already satisfied: six in c:\\users\\rock\\anaconda3\\lib\\site-packages (from traitlets>=4.2.1->notebook->open3d) (1.15.0)\n",
      "Requirement already satisfied: jedi>=0.10 in c:\\users\\rock\\anaconda3\\lib\\site-packages (from ipython>=4.0.0; python_version >= \"3.3\"->ipywidgets->open3d) (0.15.1)\n",
      "Requirement already satisfied: backcall in c:\\users\\rock\\anaconda3\\lib\\site-packages (from ipython>=4.0.0; python_version >= \"3.3\"->ipywidgets->open3d) (0.1.0)\n",
      "Requirement already satisfied: pickleshare in c:\\users\\rock\\anaconda3\\lib\\site-packages (from ipython>=4.0.0; python_version >= \"3.3\"->ipywidgets->open3d) (0.7.5)\n",
      "Requirement already satisfied: prompt-toolkit<2.1.0,>=2.0.0 in c:\\users\\rock\\anaconda3\\lib\\site-packages (from ipython>=4.0.0; python_version >= \"3.3\"->ipywidgets->open3d) (2.0.10)\n",
      "Requirement already satisfied: setuptools>=18.5 in c:\\users\\rock\\anaconda3\\lib\\site-packages (from ipython>=4.0.0; python_version >= \"3.3\"->ipywidgets->open3d) (41.4.0)\n",
      "Requirement already satisfied: colorama; sys_platform == \"win32\" in c:\\users\\rock\\anaconda3\\lib\\site-packages (from ipython>=4.0.0; python_version >= \"3.3\"->ipywidgets->open3d) (0.4.1)\n",
      "Requirement already satisfied: pyrsistent>=0.14.0 in c:\\users\\rock\\anaconda3\\lib\\site-packages (from jsonschema!=2.5.0,>=2.4->nbformat->notebook->open3d) (0.15.4)\n",
      "Requirement already satisfied: attrs>=17.4.0 in c:\\users\\rock\\anaconda3\\lib\\site-packages (from jsonschema!=2.5.0,>=2.4->nbformat->notebook->open3d) (19.2.0)\n",
      "Requirement already satisfied: webencodings in c:\\users\\rock\\anaconda3\\lib\\site-packages (from bleach->nbconvert->notebook->open3d) (0.5.1)\n",
      "Requirement already satisfied: parso>=0.5.0 in c:\\users\\rock\\anaconda3\\lib\\site-packages (from jedi>=0.10->ipython>=4.0.0; python_version >= \"3.3\"->ipywidgets->open3d) (0.5.1)\n",
      "Requirement already satisfied: wcwidth in c:\\users\\rock\\anaconda3\\lib\\site-packages (from prompt-toolkit<2.1.0,>=2.0.0->ipython>=4.0.0; python_version >= \"3.3\"->ipywidgets->open3d) (0.1.7)\n",
      "Note: you may need to restart the kernel to use updated packages.\n"
     ]
    }
   ],
   "source": [
    "pip install open3d "
   ]
  },
  {
   "cell_type": "code",
   "execution_count": 6,
   "metadata": {},
   "outputs": [
    {
     "name": "stdout",
     "output_type": "stream",
     "text": [
      "Face Segment Shape:  (39877, 3)\n",
      "Total Data Shape:  (235551, 3)\n"
     ]
    }
   ],
   "source": [
    "import numpy as np \n",
    "import open3d as o3d\n",
    "\n",
    "\n",
    "\n",
    "pcd_face = o3d.io.read_point_cloud('Cloud Sample Data/1608332814003/face_segment.pcd')\n",
    "pcd_all = o3d.io.read_point_cloud('Cloud Sample Data/1608332814003/PointCloudCapture.pcd')\n",
    "face_seg = np.asarray(pcd_face.points)  \n",
    "all_data = np.asarray(pcd_all.points)  \n",
    "print (\"Face Segment Shape: \", face_seg.shape)  \n",
    "print (\"Total Data Shape: \", all_data.shape) "
   ]
  },
  {
   "cell_type": "code",
   "execution_count": 30,
   "metadata": {},
   "outputs": [
    {
     "name": "stdout",
     "output_type": "stream",
     "text": [
      "Plane equation: 0.00x + 0.97y + 0.22z + -0.41 = 0\n",
      "PointCloud with 111546 points.\n"
     ]
    }
   ],
   "source": [
    "\"\"\"\n",
    "3D RANSAC implementation in python\n",
    "\"\"\"\n",
    "\n",
    "import numpy as np\n",
    "import pandas as pd\n",
    "import matplotlib.pyplot as plt\n",
    "import random\n",
    "import math\n",
    "from mpl_toolkits.mplot3d import Axes3D\n",
    "import open3d as o3d\n",
    "\n",
    "\n",
    "pcd = o3d.io.read_point_cloud(\"Cloud Sample Data/1608332814003/PointCloudCapture.pcd\")\n",
    "plane_model, inliers = pcd.segment_plane(distance_threshold=0.02,\n",
    "                                         ransac_n=3,\n",
    "                                         num_iterations=1000)\n",
    "[a, b, c, d] = plane_model\n",
    "print(f\"Plane equation: {a:.2f}x + {b:.2f}y + {c:.2f}z + {d:.2f} = 0\")\n",
    "\n",
    "inlier_cloud = pcd.select_by_index(inliers)\n",
    "inlier_cloud.paint_uniform_color([1.0, 0, 0])\n",
    "outlier_cloud = pcd.select_by_index(inliers, invert=True)\n",
    "outlier_cloud.paint_uniform_color([0, 1, 0])\n",
    "o3d.visualization.draw_geometries([inlier_cloud, outlier_cloud])\n",
    "print(inlier_cloud)\n"
   ]
  },
  {
   "cell_type": "code",
   "execution_count": null,
   "metadata": {},
   "outputs": [],
   "source": []
  }
 ],
 "metadata": {
  "kernelspec": {
   "display_name": "Python 3",
   "language": "python",
   "name": "python3"
  },
  "language_info": {
   "codemirror_mode": {
    "name": "ipython",
    "version": 3
   },
   "file_extension": ".py",
   "mimetype": "text/x-python",
   "name": "python",
   "nbconvert_exporter": "python",
   "pygments_lexer": "ipython3",
   "version": "3.7.4"
  }
 },
 "nbformat": 4,
 "nbformat_minor": 2
}
